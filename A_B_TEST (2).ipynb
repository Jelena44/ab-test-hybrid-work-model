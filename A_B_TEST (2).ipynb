{
 "cells": [
  {
   "cell_type": "code",
   "execution_count": 34,
   "id": "e2eaf03a-7bf9-48ab-9805-eb8d823c10c3",
   "metadata": {},
   "outputs": [],
   "source": [
    "import pandas as pd\n",
    "import numpy as np\n",
    "import matplotlib as plt\n",
    "from scipy.stats import shapiro\n",
    "from scipy.stats import levene\n",
    "from scipy.stats import ttest_ind\n",
    "import seaborn as sns\n",
    "import matplotlib.pyplot as plt"
   ]
  },
  {
   "cell_type": "code",
   "execution_count": 35,
   "id": "a12ccb01-3dd2-4db3-a2e5-c176d31a42f9",
   "metadata": {},
   "outputs": [],
   "source": [
    "#df=pd.read_excel('C:/Users/user/Downloads/Jypiter/a_b_test.xlsx')"
   ]
  },
  {
   "cell_type": "code",
   "execution_count": 36,
   "id": "d64dfa51-00d2-4037-8e8c-4e1574319c52",
   "metadata": {},
   "outputs": [
    {
     "data": {
      "text/html": [
       "<div>\n",
       "<style scoped>\n",
       "    .dataframe tbody tr th:only-of-type {\n",
       "        vertical-align: middle;\n",
       "    }\n",
       "\n",
       "    .dataframe tbody tr th {\n",
       "        vertical-align: top;\n",
       "    }\n",
       "\n",
       "    .dataframe thead th {\n",
       "        text-align: right;\n",
       "    }\n",
       "</style>\n",
       "<table border=\"1\" class=\"dataframe\">\n",
       "  <thead>\n",
       "    <tr style=\"text-align: right;\">\n",
       "      <th></th>\n",
       "      <th>employee</th>\n",
       "      <th>work mode</th>\n",
       "      <th>average performance grade (march, april)</th>\n",
       "      <th>employee_satisfaction_grade</th>\n",
       "    </tr>\n",
       "  </thead>\n",
       "  <tbody>\n",
       "    <tr>\n",
       "      <th>0</th>\n",
       "      <td>zaposleni 1</td>\n",
       "      <td>hybrid (1 day from home weekly)</td>\n",
       "      <td>8.5</td>\n",
       "      <td>9.0</td>\n",
       "    </tr>\n",
       "  </tbody>\n",
       "</table>\n",
       "</div>"
      ],
      "text/plain": [
       "      employee                        work mode  \\\n",
       "0  zaposleni 1  hybrid (1 day from home weekly)   \n",
       "\n",
       "   average performance grade (march, april)  employee_satisfaction_grade  \n",
       "0                                       8.5                          9.0  "
      ]
     },
     "execution_count": 36,
     "metadata": {},
     "output_type": "execute_result"
    }
   ],
   "source": [
    "df.head(1)"
   ]
  },
  {
   "cell_type": "code",
   "execution_count": 37,
   "id": "db811353-de18-44fd-a62b-6568ff0ca732",
   "metadata": {},
   "outputs": [],
   "source": [
    "df.rename(columns={'average performance grade (march, april)': 'avg_grade'}, inplace=True)\n",
    "df['avg_grade'] = df['avg_grade'].astype(str).str.replace(',', '.').astype(float)"
   ]
  },
  {
   "cell_type": "code",
   "execution_count": 38,
   "id": "99ed59c4-09ea-47e5-ba90-56ff81d87bc9",
   "metadata": {},
   "outputs": [],
   "source": [
    "onsite_group = df[df['work mode'] == 'on site']['avg_grade']\n",
    "hybrid_group = df[df['work mode'].str.lower().str.contains(\"hybrid\")]['avg_grade']"
   ]
  },
  {
   "cell_type": "code",
   "execution_count": 39,
   "id": "f73c3b1e-d0be-42dd-9bee-10973715cec9",
   "metadata": {},
   "outputs": [
    {
     "name": "stdout",
     "output_type": "stream",
     "text": [
      "Shapiro test for on-site group: ShapiroResult(statistic=np.float64(0.8581528120846762), pvalue=np.float64(0.007323193068702087))\n",
      "Shapiro test for hybrid group: ShapiroResult(statistic=np.float64(0.906777811751045), pvalue=np.float64(0.05535117302270365))\n"
     ]
    }
   ],
   "source": [
    "print(\"Shapiro test for on-site group:\", shapiro(onsite_group))\n",
    "print(\"Shapiro test for hybrid group:\", shapiro(hybrid_group))"
   ]
  },
  {
   "cell_type": "code",
   "execution_count": 40,
   "id": "a3a5a49f-b3c0-4048-9953-0de3ad98efba",
   "metadata": {},
   "outputs": [
    {
     "name": "stdout",
     "output_type": "stream",
     "text": [
      "Levene's test for equal variances: p = 0.8964588891209712\n"
     ]
    }
   ],
   "source": [
    "stat, p = levene(onsite_group, hybrid_group)\n",
    "print(\"Levene's test for equal variances: p =\", p)"
   ]
  },
  {
   "cell_type": "code",
   "execution_count": 41,
   "id": "827f9c7b-4500-4fbb-bac7-a38352b311ce",
   "metadata": {},
   "outputs": [
    {
     "name": "stdout",
     "output_type": "stream",
     "text": [
      "On-site avg: 7.20\n",
      "Hybrid avg: 7.92\n",
      "T-statistic: -2.253\n",
      "P-value: 0.0301\n"
     ]
    }
   ],
   "source": [
    "t_stat, p_value = ttest_ind(onsite_group, hybrid_group, equal_var=True)\n",
    "print(f\"On-site avg: {onsite_group.mean():.2f}\")\n",
    "print(f\"Hybrid avg: {hybrid_group.mean():.2f}\")\n",
    "print(f\"T-statistic: {t_stat:.3f}\")\n",
    "print(f\"P-value: {p_value:.4f}\")"
   ]
  },
  {
   "cell_type": "code",
   "execution_count": 42,
   "id": "7e8b526c-35da-41a1-97ff-d18ff378e81b",
   "metadata": {},
   "outputs": [
    {
     "data": {
      "image/png": "[encoded data removed]",
      "text/plain": [
       "<Figure size 800x500 with 1 Axes>"
      ]
     },
     "metadata": {},
     "output_type": "display_data"
    }
   ],
   "source": [
    "plt.figure(figsize=(8, 5))\n",
    "sns.boxplot(x='work mode', y='avg_grade', data=df)\n",
    "plt.title(\"Performance Score by Work Mode\")\n",
    "plt.ylabel(\"Average Performance Grade\")\n",
    "plt.xlabel(\"Work Mode\")\n",
    "plt.grid(True)\n",
    "plt.show()"
   ]
  },
  {
   "cell_type": "code",
   "execution_count": 43,
   "id": "88ddbd84-cc91-4361-9f61-253befc40e7e",
   "metadata": {},
   "outputs": [
    {
     "name": "stdout",
     "output_type": "stream",
     "text": [
      "Cohen's d: 0.71\n"
     ]
    }
   ],
   "source": [
    "\n",
    "mean_diff = hybrid_group.mean() - onsite_group.mean()\n",
    "pooled_std = np.sqrt((onsite_group.std()**2 + hybrid_group.std()**2) / 2)\n",
    "cohen_d = mean_diff / pooled_std\n",
    "print(\"Cohen's d:\", round(cohen_d, 2))"
   ]
  },
  {
   "cell_type": "code",
   "execution_count": 44,
   "id": "993dc6f1-12c8-4e47-b884-43f2e4adc156",
   "metadata": {},
   "outputs": [
    {
     "name": "stdout",
     "output_type": "stream",
     "text": [
      "=== A/B Test for Job Satisfaction ===\n",
      "On-site avg satisfaction: 7.69\n",
      "Hybrid avg satisfaction: 8.40\n",
      "T-statistic: -2.075\n",
      "P-value: 0.0448\n",
      "Shapiro-Wilk p (on-site): 0.0602\n",
      "Shapiro-Wilk p (hybrid): 0.1508\n",
      "Levene's test p: 0.9364\n",
      "Cohen's d: 0.66\n"
     ]
    }
   ],
   "source": [
    "\n",
    "df['satisfaction'] = df['employee_satisfaction_grade'].astype(str).str.replace(',', '.').astype(float)\n",
    "onsite_satisfaction = df[df['work mode'].str.lower() == 'on site']['satisfaction']\n",
    "hybrid_satisfaction = df[df['work mode'].str.lower().str.contains('hybrid')]['satisfaction']\n",
    "\n",
    "\n",
    "t_stat, p_value = ttest_ind(onsite_satisfaction, hybrid_satisfaction, equal_var=True)\n",
    "\n",
    "\n",
    "shapiro_onsite = shapiro(onsite_satisfaction)\n",
    "shapiro_hybrid = shapiro(hybrid_satisfaction)\n",
    "\n",
    "\n",
    "levene_test = levene(onsite_satisfaction, hybrid_satisfaction)\n",
    "\n",
    "\n",
    "mean_diff = hybrid_satisfaction.mean() - onsite_satisfaction.mean()\n",
    "pooled_std = np.sqrt((np.std(onsite_satisfaction, ddof=1) ** 2 + np.std(hybrid_satisfaction, ddof=1) ** 2) / 2)\n",
    "cohen_d = mean_diff / pooled_std\n",
    "\n",
    "\n",
    "print(\"=== A/B Test for Job Satisfaction ===\")\n",
    "print(f\"On-site avg satisfaction: {onsite_satisfaction.mean():.2f}\")\n",
    "print(f\"Hybrid avg satisfaction: {hybrid_satisfaction.mean():.2f}\")\n",
    "print(f\"T-statistic: {t_stat:.3f}\")\n",
    "print(f\"P-value: {p_value:.4f}\")\n",
    "print(f\"Shapiro-Wilk p (on-site): {shapiro_onsite.pvalue:.4f}\")\n",
    "print(f\"Shapiro-Wilk p (hybrid): {shapiro_hybrid.pvalue:.4f}\")\n",
    "print(f\"Levene's test p: {levene_test.pvalue:.4f}\")\n",
    "print(f\"Cohen's d: {cohen_d:.2f}\")"
   ]
  },
  {
   "cell_type": "code",
   "execution_count": 46,
   "id": "a09ed3b4-3133-42c3-aa3b-7d378a211d90",
   "metadata": {},
   "outputs": [
    {
     "name": "stderr",
     "output_type": "stream",
     "text": [
      "C:\\Users\\user\\AppData\\Local\\Temp\\ipykernel_13204\\1946606357.py:3: MatplotlibDeprecationWarning: The 'labels' parameter of boxplot() has been renamed 'tick_labels' since Matplotlib 3.9; support for the old name will be dropped in 3.11.\n",
      "  box = plt.boxplot(\n"
     ]
    },
    {
     "data": {
      "image/png": "[encoded data removed]",
      "text/plain": [
       "<Figure size 800x600 with 1 Axes>"
      ]
     },
     "metadata": {},
     "output_type": "display_data"
    }
   ],
   "source": [
    "\n",
    "plt.figure(figsize=(8, 6))\n",
    "box = plt.boxplot(\n",
    "    [onsite_satisfaction, hybrid_satisfaction],\n",
    "    labels=['On-site', 'Hybrid'],\n",
    "    patch_artist=True,\n",
    "    boxprops=dict(facecolor='yellow')\n",
    ")\n",
    "\n",
    "plt.title('Job Satisfaction by Work Mode')\n",
    "plt.xlabel('Work Mode')\n",
    "plt.ylabel('Job Satisfaction Score')\n",
    "plt.grid(axis='y')\n",
    "plt.show()"
   ]
  }
 ],
 "metadata": {
  "kernelspec": {
   "display_name": "Python 3 (ipykernel)",
   "language": "python",
   "name": "python3"
  },
  "language_info": {
   "codemirror_mode": {
    "name": "ipython",
    "version": 3
   },
   "file_extension": ".py",
   "mimetype": "text/x-python",
   "name": "python",
   "nbconvert_exporter": "python",
   "pygments_lexer": "ipython3",
   "version": "3.13.3"
  }
 },
 "nbformat": 4,
 "nbformat_minor": 5
}
